{
 "cells": [
  {
   "cell_type": "code",
   "execution_count": 3,
   "metadata": {},
   "outputs": [
    {
     "data": {
      "text/plain": [
       "[7, 8, 9]"
      ]
     },
     "execution_count": 3,
     "metadata": {},
     "output_type": "execute_result"
    }
   ],
   "source": [
    "list(range(7,10))"
   ]
  },
  {
   "cell_type": "code",
   "execution_count": 4,
   "metadata": {},
   "outputs": [
    {
     "data": {
      "text/plain": [
       "[7, 8, 9]"
      ]
     },
     "execution_count": 4,
     "metadata": {},
     "output_type": "execute_result"
    }
   ],
   "source": [
    "val = (7,10)\n",
    "list(range(*val))   #unpack values "
   ]
  },
  {
   "cell_type": "code",
   "execution_count": 6,
   "metadata": {},
   "outputs": [
    {
     "data": {
      "text/plain": [
       "[7, 8, 9]"
      ]
     },
     "execution_count": 6,
     "metadata": {},
     "output_type": "execute_result"
    }
   ],
   "source": [
    "val_list= [7,10]\n",
    "list(range(*val_list))"
   ]
  },
  {
   "cell_type": "code",
   "execution_count": 16,
   "metadata": {},
   "outputs": [
    {
     "data": {
      "text/plain": [
       "'INAVHD MA I OLLEH'"
      ]
     },
     "execution_count": 16,
     "metadata": {},
     "output_type": "execute_result"
    }
   ],
   "source": [
    "#lambda func\n",
    "st = \"Hello I am dhvani\"\n",
    "rev_upper = lambda string: string.upper()[::-1]  #function def\n",
    "\n",
    "rev_upper(st)"
   ]
  },
  {
   "cell_type": "code",
   "execution_count": 20,
   "metadata": {},
   "outputs": [
    {
     "name": "stdout",
     "output_type": "stream",
     "text": [
      "20\n"
     ]
    }
   ],
   "source": [
    "def func(n):\n",
    "    return lambda x: x*n \n",
    "a = func(2)\n",
    "print(a(10))"
   ]
  },
  {
   "cell_type": "code",
   "execution_count": 30,
   "metadata": {},
   "outputs": [
    {
     "data": {
      "text/plain": [
       "20"
      ]
     },
     "execution_count": 30,
     "metadata": {},
     "output_type": "execute_result"
    }
   ],
   "source": [
    "a = 10\n",
    "mult = lambda c:c*a\n",
    "mult(2)\n",
    "    \n",
    "#print(mult)"
   ]
  },
  {
   "cell_type": "code",
   "execution_count": 37,
   "metadata": {},
   "outputs": [
    {
     "name": "stdout",
     "output_type": "stream",
     "text": [
      "frozenset({'b', 'A', 'c'})\n",
      "frozenset({'b', 'A', 'c'})\n"
     ]
    }
   ],
   "source": [
    "#set\n",
    "myset = frozenset([\"A\", \"b\", \"c\"])\n",
    "print(myset)\n",
    " \n",
    "# Adding element to the set\n",
    "#myset.add(9)\n",
    "print(myset)"
   ]
  },
  {
   "cell_type": "code",
   "execution_count": 43,
   "metadata": {},
   "outputs": [
    {
     "name": "stdout",
     "output_type": "stream",
     "text": [
      "Union: {3, 5, 6, 7, 'b', 'a'}\n",
      "Intersection: {3, 6}\n",
      "Difference: {5, 7}\n",
      "Symmetric Difference: {5, 7, 'b', 'a'}\n"
     ]
    }
   ],
   "source": [
    "a = {3,5,6,7}\n",
    "b = {3,'a',6,'b'}\n",
    "print(\"Union:\",a|b)\n",
    "print(\"Intersection:\", a&b)\n",
    "print(\"Difference:\", a-b)\n",
    "print(\"Symmetric Difference:\",a^b)"
   ]
  },
  {
   "cell_type": "code",
   "execution_count": 84,
   "metadata": {},
   "outputs": [
    {
     "name": "stdout",
     "output_type": "stream",
     "text": [
      "0.75\n"
     ]
    }
   ],
   "source": [
    "#dictionaries\n",
    "fruits = {\"kiwi\": 1.00, \"banana\": 0.75, \"cherry\": 1.50}\n",
    "print(fruits[\"banana\"])\n",
    "fruits[\"orange\"] = 2.00\n",
    "fruits[\"banana\"] = 2.5"
   ]
  },
  {
   "cell_type": "code",
   "execution_count": 85,
   "metadata": {},
   "outputs": [
    {
     "data": {
      "text/plain": [
       "{'kiwi': 1.0, 'banana': 2.5, 'cherry': 1.5, 'orange': 2.0}"
      ]
     },
     "execution_count": 85,
     "metadata": {},
     "output_type": "execute_result"
    }
   ],
   "source": [
    "fruits"
   ]
  },
  {
   "cell_type": "code",
   "execution_count": 86,
   "metadata": {},
   "outputs": [],
   "source": [
    "sorted_fruits_key = sorted(fruits.items())          #sort on the basis of key"
   ]
  },
  {
   "cell_type": "code",
   "execution_count": 87,
   "metadata": {},
   "outputs": [
    {
     "data": {
      "text/plain": [
       "[('banana', 2.5), ('cherry', 1.5), ('kiwi', 1.0), ('orange', 2.0)]"
      ]
     },
     "execution_count": 87,
     "metadata": {},
     "output_type": "execute_result"
    }
   ],
   "source": [
    "sorted_fruits_key"
   ]
  },
  {
   "cell_type": "code",
   "execution_count": 88,
   "metadata": {},
   "outputs": [],
   "source": [
    "sorted_fruits_value = sorted(fruits.items(), key=lambda x: x[1])    #sort on the basis of value"
   ]
  },
  {
   "cell_type": "code",
   "execution_count": 89,
   "metadata": {},
   "outputs": [
    {
     "data": {
      "text/plain": [
       "[('kiwi', 1.0), ('cherry', 1.5), ('orange', 2.0), ('banana', 2.5)]"
      ]
     },
     "execution_count": 89,
     "metadata": {},
     "output_type": "execute_result"
    }
   ],
   "source": [
    "sorted_fruits_value"
   ]
  },
  {
   "cell_type": "code",
   "execution_count": 112,
   "metadata": {},
   "outputs": [
    {
     "name": "stdout",
     "output_type": "stream",
     "text": [
      "{1: 'a', 2: 'b', 3: {'A': 'c', 'B': 'd', 'C': 'e'}}\n"
     ]
    }
   ],
   "source": [
    "#nested dict\n",
    "dict2= {'A': 'c', 'B': 'd', 'C': 'e'}\n",
    "dicti = {1: 'a', 2: 'b',3: {'A': 'c', 'B': 'd', 'C': 'e'}}\n",
    "\n",
    "print(dicti)\n"
   ]
  },
  {
   "cell_type": "code",
   "execution_count": 113,
   "metadata": {},
   "outputs": [
    {
     "name": "stdout",
     "output_type": "stream",
     "text": [
      "{1: 'a', 2: 'b', 3: {'A': 'c', 'B': 'd', 'C': 'e'}, 4: 'g'}\n",
      "{'A': 'c', 'B': 'd', 'C': 'e', 'D': 'f'}\n"
     ]
    }
   ],
   "source": [
    "#add ele to dict\n",
    "dicti[4] = 'g'\n",
    "print(dicti)\n",
    "dict2[\"D\"]= \"f\"\n",
    "print(dict2)"
   ]
  },
  {
   "cell_type": "code",
   "execution_count": 114,
   "metadata": {},
   "outputs": [
    {
     "name": "stdout",
     "output_type": "stream",
     "text": [
      "{1: 'a', 2: 'b', 3: {'A': 'c', 'B': 'd', 'C': 'e'}, 4: 'g', 5: (2, 3, 4)}\n"
     ]
    }
   ],
   "source": [
    "#insert multiple vals in dict\n",
    "dicti[5] = 2, 3, 4\n",
    "print(dicti)"
   ]
  },
  {
   "cell_type": "code",
   "execution_count": 119,
   "metadata": {},
   "outputs": [
    {
     "name": "stdout",
     "output_type": "stream",
     "text": [
      "{'A': 'c', 'B': 'd', 'C': 'e'}\n"
     ]
    }
   ],
   "source": [
    "#accessing dict elements\n",
    "print(dicti.get(3))"
   ]
  },
  {
   "cell_type": "code",
   "execution_count": 124,
   "metadata": {},
   "outputs": [],
   "source": [
    "#accessing nested dict elements\n",
    "Dict= {'dict1':{1:\"a\", 2:\"b\"}, 'dict2':{'A':1, 'B':2}}"
   ]
  },
  {
   "cell_type": "code",
   "execution_count": 129,
   "metadata": {},
   "outputs": [
    {
     "name": "stdout",
     "output_type": "stream",
     "text": [
      "a\n",
      "b\n",
      "1\n"
     ]
    }
   ],
   "source": [
    "print(Dict[\"dict1\"][1])\n",
    "print(Dict[\"dict1\"][2])\n",
    "print(Dict[\"dict2\"][\"A\"])"
   ]
  },
  {
   "cell_type": "code",
   "execution_count": null,
   "metadata": {},
   "outputs": [],
   "source": []
  }
 ],
 "metadata": {
  "kernelspec": {
   "display_name": "Python 3",
   "language": "python",
   "name": "python3"
  },
  "language_info": {
   "codemirror_mode": {
    "name": "ipython",
    "version": 3
   },
   "file_extension": ".py",
   "mimetype": "text/x-python",
   "name": "python",
   "nbconvert_exporter": "python",
   "pygments_lexer": "ipython3",
   "version": "3.7.4"
  }
 },
 "nbformat": 4,
 "nbformat_minor": 2
}
