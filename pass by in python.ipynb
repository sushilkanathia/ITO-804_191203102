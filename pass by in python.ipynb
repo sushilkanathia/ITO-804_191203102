{
 "cells": [
  {
   "cell_type": "code",
   "execution_count": 1,
   "metadata": {},
   "outputs": [],
   "source": [
    "#pass by value  \n",
    "a= 10"
   ]
  },
  {
   "cell_type": "code",
   "execution_count": 11,
   "metadata": {},
   "outputs": [],
   "source": [
    "def changeit(b):\n",
    "    print(\"b:\",b)\n",
    "    b = 100\n",
    "    print(\"new b:\",b)\n",
    "    print(\"add of b\",id(b))"
   ]
  },
  {
   "cell_type": "code",
   "execution_count": 12,
   "metadata": {},
   "outputs": [
    {
     "name": "stdout",
     "output_type": "stream",
     "text": [
      "b: 10\n",
      "new b: 100\n",
      "140709507608048\n"
     ]
    }
   ],
   "source": [
    "changeit(a)"
   ]
  },
  {
   "cell_type": "code",
   "execution_count": 17,
   "metadata": {},
   "outputs": [
    {
     "name": "stdout",
     "output_type": "stream",
     "text": [
      "a: 10\n",
      "add of a 140709507605168\n"
     ]
    }
   ],
   "source": [
    "print(\"a:\" ,a)\n",
    "print(\"add of a\",id(a))\n",
    "#address of a and b are diff"
   ]
  },
  {
   "cell_type": "code",
   "execution_count": 18,
   "metadata": {},
   "outputs": [
    {
     "name": "stdout",
     "output_type": "stream",
     "text": [
      "2070107399496\n"
     ]
    }
   ],
   "source": [
    "#pass by object reference (pass by assignment)\n",
    "c = [10,11,12]\n",
    "print(id(c))"
   ]
  },
  {
   "cell_type": "code",
   "execution_count": 20,
   "metadata": {},
   "outputs": [],
   "source": [
    "def change(d):\n",
    "    print(\"d\",d)\n",
    "    print(\"current add of d :\",id(d))\n",
    "    d[0]=13\n",
    "    print(\"new add of d :\",id(d))\n",
    "    print(\"new d:\",d)\n",
    "    "
   ]
  },
  {
   "cell_type": "code",
   "execution_count": 21,
   "metadata": {},
   "outputs": [
    {
     "name": "stdout",
     "output_type": "stream",
     "text": [
      "d [10, 11, 12]\n",
      "current add of d : 2070107399496\n",
      "new add of d : 2070107399496\n",
      "new d: [13, 11, 12]\n"
     ]
    }
   ],
   "source": [
    "change(c)"
   ]
  },
  {
   "cell_type": "code",
   "execution_count": 24,
   "metadata": {},
   "outputs": [
    {
     "name": "stdout",
     "output_type": "stream",
     "text": [
      "[13, 11, 12]\n"
     ]
    },
    {
     "data": {
      "text/plain": [
       "2070107399496"
      ]
     },
     "execution_count": 24,
     "metadata": {},
     "output_type": "execute_result"
    }
   ],
   "source": [
    "print(c)\n",
    "id(c)"
   ]
  },
  {
   "cell_type": "code",
   "execution_count": 32,
   "metadata": {},
   "outputs": [],
   "source": [
    "def clean(e): #here e points to an empty list object now .\n",
    "    e= []\n",
    "    print(\"e:\",e)\n",
    "    print(\"Add of e\",id(e))"
   ]
  },
  {
   "cell_type": "code",
   "execution_count": 33,
   "metadata": {},
   "outputs": [
    {
     "name": "stdout",
     "output_type": "stream",
     "text": [
      "e: []\n",
      "Add of e 2070106796488\n",
      "c: [5, 11, 12]\n",
      "Add of c: 2070107399496\n"
     ]
    }
   ],
   "source": [
    "clean(c)\n",
    "print(\"c:\",c)\n",
    "print(\"Add of c:\",id(c))"
   ]
  },
  {
   "cell_type": "code",
   "execution_count": null,
   "metadata": {},
   "outputs": [],
   "source": []
  }
 ],
 "metadata": {
  "kernelspec": {
   "display_name": "Python 3",
   "language": "python",
   "name": "python3"
  },
  "language_info": {
   "codemirror_mode": {
    "name": "ipython",
    "version": 3
   },
   "file_extension": ".py",
   "mimetype": "text/x-python",
   "name": "python",
   "nbconvert_exporter": "python",
   "pygments_lexer": "ipython3",
   "version": "3.7.4"
  }
 },
 "nbformat": 4,
 "nbformat_minor": 2
}
