{
 "cells": [
  {
   "cell_type": "code",
   "execution_count": 110,
   "metadata": {},
   "outputs": [
    {
     "name": "stdout",
     "output_type": "stream",
     "text": [
      "[1, 2, 3, 4, 4, 5]\n",
      "(1, 2, 'a', 'b')\n"
     ]
    }
   ],
   "source": [
    "a = [1,2,3,4]\n",
    "b = (1,2)\n",
    "z = [4,5]\n",
    "y = (\"a\",\"b\")\n",
    "print(a+z)\n",
    "print(b+y)"
   ]
  },
  {
   "cell_type": "code",
   "execution_count": 17,
   "metadata": {},
   "outputs": [
    {
     "name": "stdout",
     "output_type": "stream",
     "text": [
      "10\n",
      "3\n"
     ]
    }
   ],
   "source": [
    "print(sum(a))\n",
    "print(sum(b))"
   ]
  },
  {
   "cell_type": "code",
   "execution_count": 9,
   "metadata": {},
   "outputs": [],
   "source": [
    "dict1 = {1:\"a\",2:\"b\"}"
   ]
  },
  {
   "cell_type": "code",
   "execution_count": 10,
   "metadata": {},
   "outputs": [
    {
     "name": "stdout",
     "output_type": "stream",
     "text": [
      "3\n"
     ]
    }
   ],
   "source": [
    "print(sum(dict1))"
   ]
  },
  {
   "cell_type": "code",
   "execution_count": 25,
   "metadata": {},
   "outputs": [
    {
     "name": "stdout",
     "output_type": "stream",
     "text": [
      "True\n",
      "True\n",
      "True\n",
      "True\n",
      "True\n",
      "False\n"
     ]
    }
   ],
   "source": [
    "l = [True, True, False, False] \n",
    "print(any(l)) #any true -> true\n",
    "m = [1,2,3,0]\n",
    "print(any(m))\n",
    "n = [0,1]\n",
    "print(any(n))\n",
    "o = (9,0)\n",
    "print(any(o))\n",
    "p = [False, 0,1]\n",
    "print(any(p))\n",
    "q =[False, 0]\n",
    "print(any(q))"
   ]
  },
  {
   "cell_type": "code",
   "execution_count": 27,
   "metadata": {},
   "outputs": [
    {
     "name": "stdout",
     "output_type": "stream",
     "text": [
      "False\n",
      "True\n",
      "False\n",
      "False\n",
      "False\n",
      "False\n"
     ]
    }
   ],
   "source": [
    "l = [True, True, False, False] \n",
    "print(all(l)) #all true -> true\n",
    "m = [1,2,3]\n",
    "print(all(m))\n",
    "n = [0,1]\n",
    "print(all(n))\n",
    "o = (9,0)\n",
    "print(all(o))\n",
    "p = [False, 0,1]\n",
    "print(all(p))\n",
    "q =[False, 0]\n",
    "print(all(q))"
   ]
  },
  {
   "cell_type": "code",
   "execution_count": 28,
   "metadata": {},
   "outputs": [
    {
     "name": "stdout",
     "output_type": "stream",
     "text": [
      "[0, 1, 2, 3, 5, 5, 7]\n"
     ]
    }
   ],
   "source": [
    "a = [2,1,5,3,7,5,0]\n",
    "print(sorted(a))"
   ]
  },
  {
   "cell_type": "markdown",
   "metadata": {},
   "source": [
    "# String funtions"
   ]
  },
  {
   "cell_type": "code",
   "execution_count": 94,
   "metadata": {},
   "outputs": [],
   "source": [
    "a = \"hi I am Dhvani\"\n",
    "b = \"Google\"\n",
    "c = \"  Python Programming\"\n",
    "d = \"Welcome to my repository\"\n",
    "e = \"$\"\n",
    "f = \"192\""
   ]
  },
  {
   "cell_type": "code",
   "execution_count": 39,
   "metadata": {},
   "outputs": [
    {
     "name": "stdout",
     "output_type": "stream",
     "text": [
      "14\n",
      "6\n",
      "20\n",
      "24\n"
     ]
    }
   ],
   "source": [
    "print(len(a))#returns length of string including the white spaces\n",
    "print(len(b))\n",
    "print(len(c))\n",
    "print(len(d))"
   ]
  },
  {
   "cell_type": "code",
   "execution_count": 41,
   "metadata": {},
   "outputs": [
    {
     "name": "stdout",
     "output_type": "stream",
     "text": [
      "  Python Programming\n",
      "hi i am dhvani\n",
      "GOOGLE\n",
      "Python Programming\n"
     ]
    }
   ],
   "source": [
    "print(c)\n",
    "print(a.lower())#returns lowercase\n",
    "print(b.upper())#returns uppercase\n",
    "print(c.strip())#removes starting and trailing white spaces"
   ]
  },
  {
   "cell_type": "code",
   "execution_count": 47,
   "metadata": {},
   "outputs": [
    {
     "name": "stdout",
     "output_type": "stream",
     "text": [
      "False\n",
      "False\n",
      "True\n"
     ]
    }
   ],
   "source": [
    "print(a.startswith(\"hi\"))\n",
    "print(c.startswith(\"Python\"))\n",
    "print(d.startswith(\"Welcome\"))"
   ]
  },
  {
   "cell_type": "code",
   "execution_count": 68,
   "metadata": {},
   "outputs": [
    {
     "name": "stdout",
     "output_type": "stream",
     "text": [
      "8\n",
      "-1\n"
     ]
    }
   ],
   "source": [
    "print(a.find(\"D\"))\n",
    "print(a.find(\"f\"))   #returns - 1 when not found"
   ]
  },
  {
   "cell_type": "code",
   "execution_count": 72,
   "metadata": {},
   "outputs": [
    {
     "data": {
      "text/plain": [
       "'  9ython 9rogramming'"
      ]
     },
     "execution_count": 72,
     "metadata": {},
     "output_type": "execute_result"
    }
   ],
   "source": [
    "c.replace(\"P\",\"9\")#finds and replaces"
   ]
  },
  {
   "cell_type": "code",
   "execution_count": 76,
   "metadata": {},
   "outputs": [
    {
     "name": "stdout",
     "output_type": "stream",
     "text": [
      "['Hi', 'I', 'am', 'Dhvani']\n"
     ]
    }
   ],
   "source": [
    "b = a.split(\" \")#converts string to a list at every instance of the arg of split() func.\n",
    "print(b)"
   ]
  },
  {
   "cell_type": "code",
   "execution_count": 77,
   "metadata": {},
   "outputs": [
    {
     "name": "stdout",
     "output_type": "stream",
     "text": [
      "HiIamDhvani\n"
     ]
    }
   ],
   "source": [
    "f = \"\".join(b)#converts list elements to form a string\n",
    "print(f)"
   ]
  },
  {
   "cell_type": "code",
   "execution_count": 81,
   "metadata": {},
   "outputs": [
    {
     "name": "stdout",
     "output_type": "stream",
     "text": [
      "hi I am Dhvani\n",
      "Hi i am dhvani\n"
     ]
    }
   ],
   "source": [
    "print(a)\n",
    "print(a.capitalize())#capitalizes the first letter "
   ]
  },
  {
   "cell_type": "code",
   "execution_count": 82,
   "metadata": {},
   "outputs": [
    {
     "name": "stdout",
     "output_type": "stream",
     "text": [
      "Hi I Am Dhvani\n"
     ]
    }
   ],
   "source": [
    "print(a.title())#caputalizes the first alphabet of each word"
   ]
  },
  {
   "cell_type": "code",
   "execution_count": 96,
   "metadata": {},
   "outputs": [
    {
     "name": "stdout",
     "output_type": "stream",
     "text": [
      "False\n",
      "False\n",
      "True\n"
     ]
    }
   ],
   "source": [
    "print(e.isalnum())\n",
    "print(a.isalpha())\n",
    "print(f.isdigit())"
   ]
  },
  {
   "cell_type": "code",
   "execution_count": 97,
   "metadata": {},
   "outputs": [
    {
     "data": {
      "text/plain": [
       "2"
      ]
     },
     "execution_count": 97,
     "metadata": {},
     "output_type": "execute_result"
    }
   ],
   "source": [
    "a.count(\"i\")"
   ]
  },
  {
   "cell_type": "code",
   "execution_count": 103,
   "metadata": {},
   "outputs": [
    {
     "name": "stdout",
     "output_type": "stream",
     "text": [
      "Hello John, I am 36\n"
     ]
    }
   ],
   "source": [
    "print(\"Hello {fname}, I am {fage}\".format(fname = \"John\", fage = 36)) #replace certain values "
   ]
  },
  {
   "cell_type": "code",
   "execution_count": 105,
   "metadata": {},
   "outputs": [
    {
     "data": {
      "text/plain": [
       "11"
      ]
     },
     "execution_count": 105,
     "metadata": {},
     "output_type": "execute_result"
    }
   ],
   "source": [
    "c.rfind(\"o\")#finds last occ of the arg"
   ]
  },
  {
   "cell_type": "code",
   "execution_count": 107,
   "metadata": {},
   "outputs": [
    {
     "data": {
      "text/plain": [
       "'HI i AM dHVANI'"
      ]
     },
     "execution_count": 107,
     "metadata": {},
     "output_type": "execute_result"
    }
   ],
   "source": [
    "a.swapcase()#changes UC to LC and vice versa"
   ]
  },
  {
   "cell_type": "markdown",
   "metadata": {},
   "source": [
    "# Other inbuilt works"
   ]
  },
  {
   "cell_type": "code",
   "execution_count": 126,
   "metadata": {},
   "outputs": [],
   "source": [
    "list_slice = [1,2,3,4,5,6,7,8]\n",
    "string1=\"elo\""
   ]
  },
  {
   "cell_type": "code",
   "execution_count": 131,
   "metadata": {},
   "outputs": [
    {
     "name": "stdout",
     "output_type": "stream",
     "text": [
      "[8, 7, 6, 5, 4, 3, 2, 1]\n",
      "[8]\n",
      "[2, 3, 4, 5, 6, 7, 8]\n",
      "[1, 2, 3, 4, 5, 6, 7, 8]\n",
      "[2, 3, 4]\n",
      "3\n",
      "STRING\n",
      "2365416225648\n",
      "2365416336624\n",
      "2365416226160\n",
      "LIST\n",
      "140709412774288\n",
      "140709412774320\n",
      "140709412774352\n",
      "140709412774384\n",
      "140709412774416\n",
      "140709412774448\n",
      "140709412774480\n",
      "140709412774512\n"
     ]
    }
   ],
   "source": [
    "print(list_slice[::-1])#reverse\n",
    "print(list_slice[-1::])#last element\n",
    "print(list_slice[1::])#list from index 1\n",
    "print(list_slice[0::])#list from index 0\n",
    "print(list_slice[1:4])#list from index 1 to 3 (n-1)\n",
    "print(list_slice[2])#ele on index 2\n",
    "print(\"STRING\")\n",
    "for i in range(0,len(string1)):\n",
    "    print(id(string1[i]))#id returns the mem add of the element of string\n",
    "print(\"LIST\")\n",
    "for i in range(0,len(list_slice)):\n",
    "    print(id(list_slice[i]))"
   ]
  },
  {
   "cell_type": "code",
   "execution_count": 132,
   "metadata": {},
   "outputs": [
    {
     "data": {
      "text/plain": [
       "False"
      ]
     },
     "execution_count": 132,
     "metadata": {},
     "output_type": "execute_result"
    }
   ],
   "source": [
    "a==b"
   ]
  },
  {
   "cell_type": "code",
   "execution_count": 133,
   "metadata": {},
   "outputs": [
    {
     "name": "stdout",
     "output_type": "stream",
     "text": [
      "9\n"
     ]
    }
   ],
   "source": [
    "a,b = \"hi\", 9\n",
    "print(b)#return multiple values using pass by reference"
   ]
  },
  {
   "cell_type": "code",
   "execution_count": 151,
   "metadata": {},
   "outputs": [
    {
     "name": "stdout",
     "output_type": "stream",
     "text": [
      "c 100\n",
      "a 10\n",
      "d [10, 11, 30]\n",
      "b [10, 11, 30]\n"
     ]
    }
   ],
   "source": [
    "a = 10\n",
    "b = [10,20,30]\n",
    "def change(c):\n",
    "    c =100\n",
    "    print(\"c\",c)\n",
    "def change_(d):\n",
    "    d[1] = 11\n",
    "    print(\"d\",d)\n",
    "change(a)\n",
    "print(\"a\",a)\n",
    "change_(b)\n",
    "print(\"b\",b)"
   ]
  },
  {
   "cell_type": "code",
   "execution_count": 154,
   "metadata": {},
   "outputs": [
    {
     "name": "stdout",
     "output_type": "stream",
     "text": [
      "HELLO I'M HAPPY\n"
     ]
    }
   ],
   "source": [
    "#lambda function\n",
    "\n",
    "str = \"Hello I'm Happy\"\n",
    "rev_up = lambda str : str.upper()\n",
    "print(rev_up(str))"
   ]
  },
  {
   "cell_type": "code",
   "execution_count": 155,
   "metadata": {},
   "outputs": [
    {
     "data": {
      "text/plain": [
       "30"
      ]
     },
     "execution_count": 155,
     "metadata": {},
     "output_type": "execute_result"
    }
   ],
   "source": [
    "a = 10\n",
    "mult = lambda c:c*a\n",
    "mult(3)"
   ]
  },
  {
   "cell_type": "code",
   "execution_count": 185,
   "metadata": {},
   "outputs": [
    {
     "name": "stdout",
     "output_type": "stream",
     "text": [
      "in C:25\n"
     ]
    },
    {
     "data": {
      "text/plain": [
       "77.0"
      ]
     },
     "execution_count": 185,
     "metadata": {},
     "output_type": "execute_result"
    }
   ],
   "source": [
    "temp = int(input(\"in C:\"))\n",
    "convert = lambda x:(x*9/5) +32\n",
    "convert(temp)"
   ]
  },
  {
   "cell_type": "code",
   "execution_count": 188,
   "metadata": {},
   "outputs": [
    {
     "name": "stdout",
     "output_type": "stream",
     "text": [
      "I am dhvani\n"
     ]
    },
    {
     "data": {
      "text/plain": [
       "'INAVHD MA I'"
      ]
     },
     "execution_count": 188,
     "metadata": {},
     "output_type": "execute_result"
    }
   ],
   "source": [
    "str = input()\n",
    "convert = lambda str:str.upper()[::-1]\n",
    "convert(str)"
   ]
  },
  {
   "cell_type": "code",
   "execution_count": 212,
   "metadata": {},
   "outputs": [
    {
     "name": "stdout",
     "output_type": "stream",
     "text": [
      "90\n"
     ]
    }
   ],
   "source": [
    "#list comprehension\n",
    "lis1 = [10,20,30,40]\n",
    "comp = [print(lis1[x]*3) for x in range(0,len(lis1)) if lis1[x]%3 == 0] "
   ]
  },
  {
   "cell_type": "code",
   "execution_count": 214,
   "metadata": {},
   "outputs": [
    {
     "name": "stdout",
     "output_type": "stream",
     "text": [
      "0\n",
      "9\n",
      "18\n",
      "27\n"
     ]
    }
   ],
   "source": [
    "#list comprehension\n",
    "#lis1 = [10,20,30,40]\n",
    "comp = [x*3 for x in range(0,10) if x%3 == 0] \n",
    "for i in comp:\n",
    "    print(i)"
   ]
  },
  {
   "cell_type": "code",
   "execution_count": 181,
   "metadata": {},
   "outputs": [
    {
     "name": "stdout",
     "output_type": "stream",
     "text": [
      "[0, 1, 4, 9, 16, 25, 36, 49, 64, 81, 100, 121, 144, 169, 196, 225, 256, 289, 324, 361]\n"
     ]
    }
   ],
   "source": [
    "list1 = [x**2 for x in range(0,20)]\n",
    "print(list1)"
   ]
  },
  {
   "cell_type": "code",
   "execution_count": 215,
   "metadata": {},
   "outputs": [
    {
     "name": "stdout",
     "output_type": "stream",
     "text": [
      "Start:4\n",
      "End:9\n",
      "20\n",
      "25\n",
      "30\n",
      "35\n",
      "40\n"
     ]
    }
   ],
   "source": [
    "#check if a number is even in a given range and print num*5 -> lambda + list comprehension\n",
    "m = int(input(\"Start:\"))\n",
    "n = int(input(\"End:\"))\n",
    "even_list = [lambda arg=x: arg*5 for x in range(m,n)]\n",
    "for item in even_list:\n",
    "    print(item())"
   ]
  },
  {
   "cell_type": "code",
   "execution_count": 242,
   "metadata": {},
   "outputs": [
    {
     "name": "stdout",
     "output_type": "stream",
     "text": [
      "[1, 2, 6, 1, 8, 9, 2, 0, 5]\n",
      "Append: [1, 2, 6, 1, 8, 9, 2, 0, 5, 7]\n",
      "Insert at 6th Index: [1, 2, 6, 1, 8, 9, 2, 0, 9, 5, 7]\n",
      "[7, 5, 9, 0, 2, 9, 8, 1, 6, 2, 1]\n",
      "[0, 1, 1, 2, 2, 5, 6, 7, 8, 9, 9]\n"
     ]
    }
   ],
   "source": [
    "list1 = [1,2,6,1,8,9,2,0,5]\n",
    "\n",
    "print(list1)\n",
    "list1.append(7)\n",
    "print(\"Append:\",list1)\n",
    "list1.insert(8,9)\n",
    "print(\"Insert at 6th Index:\",list1)\n",
    "list1.reverse()\n",
    "print(list1)\n",
    "list1.sort()\n",
    "print(list1)"
   ]
  },
  {
   "cell_type": "code",
   "execution_count": 243,
   "metadata": {},
   "outputs": [
    {
     "name": "stdout",
     "output_type": "stream",
     "text": [
      "[0, 1, 1, 2, 2, 5, 6, 7, 8, 9]\n"
     ]
    }
   ],
   "source": [
    "list1.pop()\n",
    "print(list1)"
   ]
  },
  {
   "cell_type": "code",
   "execution_count": 244,
   "metadata": {},
   "outputs": [
    {
     "name": "stdout",
     "output_type": "stream",
     "text": [
      "[0, 1, 2, 2, 5, 6, 7, 8, 9]\n"
     ]
    }
   ],
   "source": [
    "list1.remove(1)\n",
    "print(list1)"
   ]
  },
  {
   "cell_type": "code",
   "execution_count": 247,
   "metadata": {},
   "outputs": [
    {
     "name": "stdout",
     "output_type": "stream",
     "text": [
      "Union: {1, 2, 'a', 'd', 'b', 'c'}\n",
      "Intersection: {1, 2}\n",
      "Difference: {'d', 'c'}\n",
      "Symmetric Difference: {'a', 'd', 'b', 'c'}\n"
     ]
    }
   ],
   "source": [
    "#sets\n",
    "a = {1,'a',2,'b'}\n",
    "b = {1,'c',2,'d'}\n",
    "print(\"Union:\", a|b)\n",
    "print(\"Intersection:\",a&b)\n",
    "print(\"Difference:\",b-a)\n",
    "print(\"Symmetric Difference:\",b^a)"
   ]
  },
  {
   "cell_type": "code",
   "execution_count": 248,
   "metadata": {},
   "outputs": [],
   "source": [
    "a.add('c')"
   ]
  },
  {
   "cell_type": "code",
   "execution_count": 249,
   "metadata": {},
   "outputs": [
    {
     "data": {
      "text/plain": [
       "{1, 2, 'a', 'b', 'c'}"
      ]
     },
     "execution_count": 249,
     "metadata": {},
     "output_type": "execute_result"
    }
   ],
   "source": [
    "a\n"
   ]
  },
  {
   "cell_type": "code",
   "execution_count": 250,
   "metadata": {},
   "outputs": [],
   "source": [
    "a.add('c')"
   ]
  },
  {
   "cell_type": "code",
   "execution_count": 251,
   "metadata": {},
   "outputs": [
    {
     "data": {
      "text/plain": [
       "{1, 2, 'a', 'b', 'c'}"
      ]
     },
     "execution_count": 251,
     "metadata": {},
     "output_type": "execute_result"
    }
   ],
   "source": [
    "a\n"
   ]
  },
  {
   "cell_type": "code",
   "execution_count": 262,
   "metadata": {},
   "outputs": [
    {
     "ename": "TypeError",
     "evalue": "descriptor 'items' of 'dict' object needs an argument",
     "output_type": "error",
     "traceback": [
      "\u001b[1;31m---------------------------------------------------------------------------\u001b[0m",
      "\u001b[1;31mTypeError\u001b[0m                                 Traceback (most recent call last)",
      "\u001b[1;32m<ipython-input-262-61973a66346c>\u001b[0m in \u001b[0;36m<module>\u001b[1;34m\u001b[0m\n\u001b[0;32m      1\u001b[0m \u001b[0mdict1\u001b[0m \u001b[1;33m=\u001b[0m \u001b[1;33m{\u001b[0m\u001b[1;36m1\u001b[0m\u001b[1;33m:\u001b[0m\u001b[1;34m'a'\u001b[0m\u001b[1;33m,\u001b[0m\u001b[1;36m2\u001b[0m\u001b[1;33m:\u001b[0m\u001b[1;34m'c'\u001b[0m\u001b[1;33m,\u001b[0m\u001b[1;36m3\u001b[0m\u001b[1;33m:\u001b[0m\u001b[1;34m'v'\u001b[0m\u001b[1;33m,\u001b[0m\u001b[1;36m4\u001b[0m\u001b[1;33m:\u001b[0m\u001b[1;34m'k'\u001b[0m\u001b[1;33m}\u001b[0m\u001b[1;33m\u001b[0m\u001b[1;33m\u001b[0m\u001b[0m\n\u001b[1;32m----> 2\u001b[1;33m \u001b[0msorted_v\u001b[0m \u001b[1;33m=\u001b[0m \u001b[0msorted\u001b[0m\u001b[1;33m(\u001b[0m\u001b[0mdict\u001b[0m\u001b[1;33m.\u001b[0m\u001b[0mitems\u001b[0m\u001b[1;33m(\u001b[0m\u001b[1;33m)\u001b[0m\u001b[1;33m,\u001b[0m \u001b[0mkey\u001b[0m \u001b[1;33m=\u001b[0m \u001b[1;32mlambda\u001b[0m \u001b[0mx\u001b[0m \u001b[1;33m:\u001b[0m\u001b[0mx\u001b[0m\u001b[1;33m[\u001b[0m\u001b[0mi\u001b[0m\u001b[1;33m]\u001b[0m\u001b[1;33m)\u001b[0m\u001b[1;33m\u001b[0m\u001b[1;33m\u001b[0m\u001b[0m\n\u001b[0m\u001b[0;32m      3\u001b[0m \u001b[0msorted_v\u001b[0m\u001b[1;33m(\u001b[0m\u001b[0mdict1\u001b[0m\u001b[1;33m)\u001b[0m\u001b[1;33m\u001b[0m\u001b[1;33m\u001b[0m\u001b[0m\n",
      "\u001b[1;31mTypeError\u001b[0m: descriptor 'items' of 'dict' object needs an argument"
     ]
    }
   ],
   "source": [
    "dict1 = {1:'a',2:'c',3:'v',4:'k'}\n",
    "sorted_v = sorted(dict.items(), key = lambda x :x[i])\n",
    "sorted_v(dict1)"
   ]
  },
  {
   "cell_type": "code",
   "execution_count": 264,
   "metadata": {},
   "outputs": [],
   "source": [
    "import copy"
   ]
  },
  {
   "cell_type": "code",
   "execution_count": 267,
   "metadata": {},
   "outputs": [
    {
     "name": "stdout",
     "output_type": "stream",
     "text": [
      "L1: [1, 2, [3, 4], 5]\n",
      "L2: [1, 2, [3, 4], 5]\n"
     ]
    }
   ],
   "source": [
    "l1 = [1,2,[3,4],5]\n",
    "l2 = copy.deepcopy(l1)\n",
    "print(\"L1:\",l1)\n",
    "print(\"L2:\",l2)"
   ]
  },
  {
   "cell_type": "code",
   "execution_count": 269,
   "metadata": {},
   "outputs": [
    {
     "name": "stdout",
     "output_type": "stream",
     "text": [
      "[1, 2, [3, 4], 5]\n",
      "[1, 2, [10, 4], 5]\n"
     ]
    }
   ],
   "source": [
    "l2[2][0] = 10\n",
    "print(l1)\n",
    "print(l2)#deep copy is not reflected in the original object"
   ]
  },
  {
   "cell_type": "code",
   "execution_count": 270,
   "metadata": {},
   "outputs": [
    {
     "name": "stdout",
     "output_type": "stream",
     "text": [
      "[1, 2, [15, 4], 5]\n",
      "[1, 2, [15, 4], 5]\n"
     ]
    }
   ],
   "source": [
    "l3 = copy.copy(l1)#shallow copy is reflected in the original object\n",
    "l3[2][0] = 15\n",
    "print(l1)\n",
    "print(l3)"
   ]
  },
  {
   "cell_type": "code",
   "execution_count": null,
   "metadata": {},
   "outputs": [],
   "source": []
  }
 ],
 "metadata": {
  "kernelspec": {
   "display_name": "Python 3",
   "language": "python",
   "name": "python3"
  },
  "language_info": {
   "codemirror_mode": {
    "name": "ipython",
    "version": 3
   },
   "file_extension": ".py",
   "mimetype": "text/x-python",
   "name": "python",
   "nbconvert_exporter": "python",
   "pygments_lexer": "ipython3",
   "version": "3.7.4"
  }
 },
 "nbformat": 4,
 "nbformat_minor": 2
}
